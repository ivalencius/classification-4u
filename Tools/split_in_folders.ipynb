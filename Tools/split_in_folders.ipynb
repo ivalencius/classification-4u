{
 "cells": [
  {
   "cell_type": "markdown",
   "metadata": {},
   "source": [
    "# split_in_folders\n",
    "## Splits training data into train/test folders\n",
    "Author - Ilan Valencius\n",
    "\n",
    "Date: 1-31-22\n",
    "\n",
    "**Input Directory**\n",
    "* Images\n",
    "  * img_1, img_2, ...\n",
    "* Masks\n",
    "  * mask_1, mask_2, ...\n",
    "* *Note* indexes of img = indexes of mask i.e. img_1 <-> mask_1\n",
    "* *Note* file-names of masks and images should be identical so they are sorted in the same alphabetical order\n",
    "\n",
    "**Output Directory**\n",
    "* Training (can change this name)\n",
    "  * training_sources\n",
    "    * img_1, img_2, ...\n",
    "  * training_targets\n",
    "    * mask_1,  mask_2, ...\n",
    "* Test (can change this name)\n",
    "  * test_sources\n",
    "    * img_n, ...\n",
    "  * test_targets\n",
    "    * mask_n, ...\n",
    "\n",
    "*Note*: please manually set up file architecture, training_source, training_targets, etc. must have exact same filename|"
   ]
  },
  {
   "cell_type": "code",
   "execution_count": 1,
   "metadata": {},
   "outputs": [],
   "source": [
    "# Import dependencies\n",
    "import os\n",
    "import random"
   ]
  },
  {
   "cell_type": "code",
   "execution_count": 2,
   "metadata": {},
   "outputs": [
    {
     "name": "stdout",
     "output_type": "stream",
     "text": [
      "Number of samples: 10674\n",
      "Numbe of samples in training set: 2134\n"
     ]
    }
   ],
   "source": [
    "# Set parameters\n",
    "img_folder = \"D:\\\\Snyder_UNet_spring_2022\\\\UNet_data\\\\landcover.ai.v1\\\\img_output\\\\\" # Folder containing images (use '\\\\' AND absolute path)\n",
    "img_file_ext = \"*.jpg\" # File extension with regex: *.png for png files, *.tif for tiff files\n",
    "\n",
    "mask_folder = \"D:\\\\Snyder_UNet_spring_2022\\\\UNet_data\\\\landcover.ai.v1\\\\mask_output\\\\\" # Folder to save new grayscale images\n",
    "mask_file_ext = \"*.jpg\" # File extension with regex: *.png for png files, *.tif for tiff files\n",
    "\n",
    "training_folder = \"D:\\\\Snyder_UNet_spring_2022\\\\UNet_data\\\\landcover.ai.v1\\\\landai_training\\\\\"\n",
    "test_folder = \"D:\\\\Snyder_UNet_spring_2022\\\\UNet_data\\\\landcover.ai.v1\\\\landai_test\\\\\"\n",
    "\n",
    "# Get lists of filenames in folders\n",
    "img_files = sorted(os.listdir(img_folder))\n",
    "mask_files = sorted(os.listdir(mask_folder))\n",
    "\n",
    "# Get number of values in test sample\n",
    "test_percentage = 0.2\n",
    "test_n = int(test_percentage * len(img_files))\n",
    "print(\"Number of samples: %d\"%(len(img_files)))\n",
    "print(\"Numbe of samples in training set: %d\"%(test_n))"
   ]
  },
  {
   "cell_type": "code",
   "execution_count": 3,
   "metadata": {},
   "outputs": [
    {
     "name": "stdout",
     "output_type": "stream",
     "text": [
      "M-33-32-B-b-4-4_106.jpg\n",
      "M-33-32-B-b-4-4_106.jpg\n"
     ]
    }
   ],
   "source": [
    "# Shuffle both lists together\n",
    "combined_files = list(zip(img_files, mask_files))\n",
    "random.shuffle(combined_files)\n",
    "img_files, mask_files = zip(*combined_files)\n",
    "\n",
    "# Sanity check to make sure image and masks align\n",
    "print(img_files[0])\n",
    "print(mask_files[0])\n",
    "\n",
    "# Put files into training dataset\n",
    "for i in range(test_n, len(img_files)):\n",
    "    img = img_files[i]\n",
    "    mask = mask_files[i]\n",
    "\n",
    "    new_img_path = training_folder + \"training_sources\\\\\" + os.path.basename(img)\n",
    "    new_mask_path = training_folder + \"training_targets\\\\\" + os.path.basename(mask)\n",
    "    \n",
    "    os.rename(img_folder + img, new_img_path)\n",
    "    os.rename(mask_folder + mask, new_mask_path)\n",
    "    \n",
    "# Put files into test dataset\n",
    "for i in range(test_n):\n",
    "    img = img_files[i]\n",
    "    mask = mask_files[i]\n",
    "    \n",
    "    new_img_path = test_folder + \"test_sources\\\\\" + os.path.basename(img)\n",
    "    new_mask_path = test_folder + \"test_targets\\\\\" + os.path.basename(mask)\n",
    "    \n",
    "    os.rename(img_folder + img, new_img_path)\n",
    "    os.rename(mask_folder + mask, new_mask_path)\n",
    "\n"
   ]
  }
 ],
 "metadata": {
  "interpreter": {
   "hash": "f8dc394fe8b851e8fee8bf44b9060daf20dc28cf237837a1e07d4467514055a5"
  },
  "kernelspec": {
   "display_name": "Python 3.8.10 64-bit (windows store)",
   "language": "python",
   "name": "python3"
  },
  "language_info": {
   "codemirror_mode": {
    "name": "ipython",
    "version": 3
   },
   "file_extension": ".py",
   "mimetype": "text/x-python",
   "name": "python",
   "nbconvert_exporter": "python",
   "pygments_lexer": "ipython3",
   "version": "3.8.10"
  },
  "orig_nbformat": 4
 },
 "nbformat": 4,
 "nbformat_minor": 2
}
